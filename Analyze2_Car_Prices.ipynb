{
  "nbformat": 4,
  "nbformat_minor": 0,
  "metadata": {
    "colab": {
      "provenance": []
    },
    "kernelspec": {
      "name": "python3",
      "display_name": "Python 3"
    },
    "language_info": {
      "name": "python"
    },
    "widgets": {
      "application/vnd.jupyter.widget-state+json": {
        "d1903ef5528744f0a58249fb64dcb646": {
          "model_module": "@jupyter-widgets/controls",
          "model_name": "HBoxModel",
          "model_module_version": "2.0.0",
          "state": {
            "_dom_classes": [],
            "_model_module": "@jupyter-widgets/controls",
            "_model_module_version": "2.0.0",
            "_model_name": "HBoxModel",
            "_view_count": null,
            "_view_module": "@jupyter-widgets/controls",
            "_view_module_version": "2.0.0",
            "_view_name": "HBoxView",
            "box_style": "",
            "children": [
              "IPY_MODEL_4fd8ded3d343418c9a5ddeb2594f84b2",
              "IPY_MODEL_53b24da1066a49b88f1d4dfc9964a164",
              "IPY_MODEL_3e61e5249e444138a47f297934365e1d"
            ],
            "layout": "IPY_MODEL_f1377b84644d442caff4edd6b2a3ae72",
            "tabbable": null,
            "tooltip": null
          }
        },
        "4fd8ded3d343418c9a5ddeb2594f84b2": {
          "model_module": "@jupyter-widgets/controls",
          "model_name": "HTMLModel",
          "model_module_version": "2.0.0",
          "state": {
            "_dom_classes": [],
            "_model_module": "@jupyter-widgets/controls",
            "_model_module_version": "2.0.0",
            "_model_name": "HTMLModel",
            "_view_count": null,
            "_view_module": "@jupyter-widgets/controls",
            "_view_module_version": "2.0.0",
            "_view_name": "HTMLView",
            "description": "",
            "description_allow_html": false,
            "layout": "IPY_MODEL_b17e09a0cde34a01a79982ed92e6000e",
            "placeholder": "​",
            "style": "IPY_MODEL_e7b6029314a649359b546691f4731937",
            "tabbable": null,
            "tooltip": null,
            "value": "making batch predictions: 100%"
          }
        },
        "53b24da1066a49b88f1d4dfc9964a164": {
          "model_module": "@jupyter-widgets/controls",
          "model_name": "FloatProgressModel",
          "model_module_version": "2.0.0",
          "state": {
            "_dom_classes": [],
            "_model_module": "@jupyter-widgets/controls",
            "_model_module_version": "2.0.0",
            "_model_name": "FloatProgressModel",
            "_view_count": null,
            "_view_module": "@jupyter-widgets/controls",
            "_view_module_version": "2.0.0",
            "_view_name": "ProgressView",
            "bar_style": "success",
            "description": "",
            "description_allow_html": false,
            "layout": "IPY_MODEL_adc99d34415d4f059d248a38d22b5c3a",
            "max": 6975,
            "min": 0,
            "orientation": "horizontal",
            "style": "IPY_MODEL_bee305ef805e4a0681c6e3218f41118a",
            "tabbable": null,
            "tooltip": null,
            "value": 6975
          }
        },
        "3e61e5249e444138a47f297934365e1d": {
          "model_module": "@jupyter-widgets/controls",
          "model_name": "HTMLModel",
          "model_module_version": "2.0.0",
          "state": {
            "_dom_classes": [],
            "_model_module": "@jupyter-widgets/controls",
            "_model_module_version": "2.0.0",
            "_model_name": "HTMLModel",
            "_view_count": null,
            "_view_module": "@jupyter-widgets/controls",
            "_view_module_version": "2.0.0",
            "_view_name": "HTMLView",
            "description": "",
            "description_allow_html": false,
            "layout": "IPY_MODEL_9add9c2374a142da99d42ff72d0f05b1",
            "placeholder": "​",
            "style": "IPY_MODEL_66a82521a84442849acb9b51c26426a7",
            "tabbable": null,
            "tooltip": null,
            "value": " 6975/6975 [07:43&lt;00:00, 14.83it/s]"
          }
        },
        "f1377b84644d442caff4edd6b2a3ae72": {
          "model_module": "@jupyter-widgets/base",
          "model_name": "LayoutModel",
          "model_module_version": "2.0.0",
          "state": {
            "_model_module": "@jupyter-widgets/base",
            "_model_module_version": "2.0.0",
            "_model_name": "LayoutModel",
            "_view_count": null,
            "_view_module": "@jupyter-widgets/base",
            "_view_module_version": "2.0.0",
            "_view_name": "LayoutView",
            "align_content": null,
            "align_items": null,
            "align_self": null,
            "border_bottom": null,
            "border_left": null,
            "border_right": null,
            "border_top": null,
            "bottom": null,
            "display": null,
            "flex": null,
            "flex_flow": null,
            "grid_area": null,
            "grid_auto_columns": null,
            "grid_auto_flow": null,
            "grid_auto_rows": null,
            "grid_column": null,
            "grid_gap": null,
            "grid_row": null,
            "grid_template_areas": null,
            "grid_template_columns": null,
            "grid_template_rows": null,
            "height": null,
            "justify_content": null,
            "justify_items": null,
            "left": null,
            "margin": null,
            "max_height": null,
            "max_width": null,
            "min_height": null,
            "min_width": null,
            "object_fit": null,
            "object_position": null,
            "order": null,
            "overflow": null,
            "padding": null,
            "right": null,
            "top": null,
            "visibility": null,
            "width": null
          }
        },
        "b17e09a0cde34a01a79982ed92e6000e": {
          "model_module": "@jupyter-widgets/base",
          "model_name": "LayoutModel",
          "model_module_version": "2.0.0",
          "state": {
            "_model_module": "@jupyter-widgets/base",
            "_model_module_version": "2.0.0",
            "_model_name": "LayoutModel",
            "_view_count": null,
            "_view_module": "@jupyter-widgets/base",
            "_view_module_version": "2.0.0",
            "_view_name": "LayoutView",
            "align_content": null,
            "align_items": null,
            "align_self": null,
            "border_bottom": null,
            "border_left": null,
            "border_right": null,
            "border_top": null,
            "bottom": null,
            "display": null,
            "flex": null,
            "flex_flow": null,
            "grid_area": null,
            "grid_auto_columns": null,
            "grid_auto_flow": null,
            "grid_auto_rows": null,
            "grid_column": null,
            "grid_gap": null,
            "grid_row": null,
            "grid_template_areas": null,
            "grid_template_columns": null,
            "grid_template_rows": null,
            "height": null,
            "justify_content": null,
            "justify_items": null,
            "left": null,
            "margin": null,
            "max_height": null,
            "max_width": null,
            "min_height": null,
            "min_width": null,
            "object_fit": null,
            "object_position": null,
            "order": null,
            "overflow": null,
            "padding": null,
            "right": null,
            "top": null,
            "visibility": null,
            "width": null
          }
        },
        "e7b6029314a649359b546691f4731937": {
          "model_module": "@jupyter-widgets/controls",
          "model_name": "HTMLStyleModel",
          "model_module_version": "2.0.0",
          "state": {
            "_model_module": "@jupyter-widgets/controls",
            "_model_module_version": "2.0.0",
            "_model_name": "HTMLStyleModel",
            "_view_count": null,
            "_view_module": "@jupyter-widgets/base",
            "_view_module_version": "2.0.0",
            "_view_name": "StyleView",
            "background": null,
            "description_width": "",
            "font_size": null,
            "text_color": null
          }
        },
        "adc99d34415d4f059d248a38d22b5c3a": {
          "model_module": "@jupyter-widgets/base",
          "model_name": "LayoutModel",
          "model_module_version": "2.0.0",
          "state": {
            "_model_module": "@jupyter-widgets/base",
            "_model_module_version": "2.0.0",
            "_model_name": "LayoutModel",
            "_view_count": null,
            "_view_module": "@jupyter-widgets/base",
            "_view_module_version": "2.0.0",
            "_view_name": "LayoutView",
            "align_content": null,
            "align_items": null,
            "align_self": null,
            "border_bottom": null,
            "border_left": null,
            "border_right": null,
            "border_top": null,
            "bottom": null,
            "display": null,
            "flex": null,
            "flex_flow": null,
            "grid_area": null,
            "grid_auto_columns": null,
            "grid_auto_flow": null,
            "grid_auto_rows": null,
            "grid_column": null,
            "grid_gap": null,
            "grid_row": null,
            "grid_template_areas": null,
            "grid_template_columns": null,
            "grid_template_rows": null,
            "height": null,
            "justify_content": null,
            "justify_items": null,
            "left": null,
            "margin": null,
            "max_height": null,
            "max_width": null,
            "min_height": null,
            "min_width": null,
            "object_fit": null,
            "object_position": null,
            "order": null,
            "overflow": null,
            "padding": null,
            "right": null,
            "top": null,
            "visibility": null,
            "width": null
          }
        },
        "bee305ef805e4a0681c6e3218f41118a": {
          "model_module": "@jupyter-widgets/controls",
          "model_name": "ProgressStyleModel",
          "model_module_version": "2.0.0",
          "state": {
            "_model_module": "@jupyter-widgets/controls",
            "_model_module_version": "2.0.0",
            "_model_name": "ProgressStyleModel",
            "_view_count": null,
            "_view_module": "@jupyter-widgets/base",
            "_view_module_version": "2.0.0",
            "_view_name": "StyleView",
            "bar_color": null,
            "description_width": ""
          }
        },
        "9add9c2374a142da99d42ff72d0f05b1": {
          "model_module": "@jupyter-widgets/base",
          "model_name": "LayoutModel",
          "model_module_version": "2.0.0",
          "state": {
            "_model_module": "@jupyter-widgets/base",
            "_model_module_version": "2.0.0",
            "_model_name": "LayoutModel",
            "_view_count": null,
            "_view_module": "@jupyter-widgets/base",
            "_view_module_version": "2.0.0",
            "_view_name": "LayoutView",
            "align_content": null,
            "align_items": null,
            "align_self": null,
            "border_bottom": null,
            "border_left": null,
            "border_right": null,
            "border_top": null,
            "bottom": null,
            "display": null,
            "flex": null,
            "flex_flow": null,
            "grid_area": null,
            "grid_auto_columns": null,
            "grid_auto_flow": null,
            "grid_auto_rows": null,
            "grid_column": null,
            "grid_gap": null,
            "grid_row": null,
            "grid_template_areas": null,
            "grid_template_columns": null,
            "grid_template_rows": null,
            "height": null,
            "justify_content": null,
            "justify_items": null,
            "left": null,
            "margin": null,
            "max_height": null,
            "max_width": null,
            "min_height": null,
            "min_width": null,
            "object_fit": null,
            "object_position": null,
            "order": null,
            "overflow": null,
            "padding": null,
            "right": null,
            "top": null,
            "visibility": null,
            "width": null
          }
        },
        "66a82521a84442849acb9b51c26426a7": {
          "model_module": "@jupyter-widgets/controls",
          "model_name": "HTMLStyleModel",
          "model_module_version": "2.0.0",
          "state": {
            "_model_module": "@jupyter-widgets/controls",
            "_model_module_version": "2.0.0",
            "_model_name": "HTMLStyleModel",
            "_view_count": null,
            "_view_module": "@jupyter-widgets/base",
            "_view_module_version": "2.0.0",
            "_view_name": "StyleView",
            "background": null,
            "description_width": "",
            "font_size": null,
            "text_color": null
          }
        }
      }
    }
  },
  "cells": [
    {
      "cell_type": "markdown",
      "source": [
        "# Regression Model: Used Car Price Prediction\n",
        "\n",
        "**Author:** Vinicius Moreira\n",
        "\n",
        "### Main Objective\n",
        "The objective of this project is to develop a high-performance regression model to predict the selling price of used cars in the Brazilian market. To do so, we will use a large dataset of real advertisements and apply advanced feature engineering techniques.\n",
        "\n",
        "### Technical Focus\n",
        "This notebook documents the complete process, focusing on:\n",
        "* **Statistical and Exploratory Data Analysis (EDA):** Deeply understand the characteristics and distributions of the dataset.\n",
        "* **Feature Engineering:** Create new informative variables from the raw data.\n",
        "* **Model Construction and Fine-Tuning:** Adapt a pre-trained Transformer model (`BERTimbau`) for the tabular regression task, building the training loop \"by hand\" with PyTorch.\n",
        "* **GPU Acceleration:** Utilize a local GPU (NVIDIA CUDA) to massively accelerate model training time."
      ],
      "metadata": {
        "id": "zbyodSxkPLm8"
      }
    },
    {
      "cell_type": "code",
      "execution_count": null,
      "metadata": {
        "colab": {
          "base_uri": "https://localhost:8080/"
        },
        "id": "2EciR75wF0So",
        "outputId": "7086739b-fa8e-4ca0-f6ec-cb16e9977525"
      },
      "outputs": [
        {
          "output_type": "stream",
          "name": "stdout",
          "text": [
            "Requirement already satisfied: tqdm in d:\\rag_helpdesk\\.venv\\lib\\site-packages (4.67.1)\n",
            "Requirement already satisfied: colorama in d:\\rag_helpdesk\\.venv\\lib\\site-packages (from tqdm) (0.4.6)\n"
          ]
        },
        {
          "output_type": "stream",
          "name": "stderr",
          "text": [
            "\n",
            "[notice] A new release of pip is available: 23.0.1 -> 25.1.1\n",
            "[notice] To update, run: python.exe -m pip install --upgrade pip\n"
          ]
        },
        {
          "output_type": "stream",
          "name": "stdout",
          "text": [
            "Requirement already satisfied: transformers in d:\\rag_helpdesk\\.venv\\lib\\site-packages (4.53.0)\n",
            "Requirement already satisfied: tqdm>=4.27 in d:\\rag_helpdesk\\.venv\\lib\\site-packages (from transformers) (4.67.1)\n",
            "Requirement already satisfied: filelock in d:\\rag_helpdesk\\.venv\\lib\\site-packages (from transformers) (3.18.0)\n",
            "Requirement already satisfied: huggingface-hub<1.0,>=0.30.0 in d:\\rag_helpdesk\\.venv\\lib\\site-packages (from transformers) (0.33.1)\n",
            "Requirement already satisfied: packaging>=20.0 in d:\\rag_helpdesk\\.venv\\lib\\site-packages (from transformers) (24.2)\n",
            "Requirement already satisfied: pyyaml>=5.1 in d:\\rag_helpdesk\\.venv\\lib\\site-packages (from transformers) (6.0.2)\n",
            "Requirement already satisfied: tokenizers<0.22,>=0.21 in d:\\rag_helpdesk\\.venv\\lib\\site-packages (from transformers) (0.21.2)\n",
            "Requirement already satisfied: safetensors>=0.4.3 in d:\\rag_helpdesk\\.venv\\lib\\site-packages (from transformers) (0.5.3)\n",
            "Requirement already satisfied: regex!=2019.12.17 in d:\\rag_helpdesk\\.venv\\lib\\site-packages (from transformers) (2024.11.6)\n",
            "Requirement already satisfied: requests in d:\\rag_helpdesk\\.venv\\lib\\site-packages (from transformers) (2.32.4)\n",
            "Requirement already satisfied: numpy>=1.17 in d:\\rag_helpdesk\\.venv\\lib\\site-packages (from transformers) (2.2.6)\n",
            "Requirement already satisfied: typing-extensions>=3.7.4.3 in d:\\rag_helpdesk\\.venv\\lib\\site-packages (from huggingface-hub<1.0,>=0.30.0->transformers) (4.14.0)\n",
            "Requirement already satisfied: fsspec>=2023.5.0 in d:\\rag_helpdesk\\.venv\\lib\\site-packages (from huggingface-hub<1.0,>=0.30.0->transformers) (2025.5.1)\n",
            "Requirement already satisfied: colorama in d:\\rag_helpdesk\\.venv\\lib\\site-packages (from tqdm>=4.27->transformers) (0.4.6)\n",
            "Requirement already satisfied: charset_normalizer<4,>=2 in d:\\rag_helpdesk\\.venv\\lib\\site-packages (from requests->transformers) (3.4.2)\n",
            "Requirement already satisfied: certifi>=2017.4.17 in d:\\rag_helpdesk\\.venv\\lib\\site-packages (from requests->transformers) (2025.6.15)\n",
            "Requirement already satisfied: urllib3<3,>=1.21.1 in d:\\rag_helpdesk\\.venv\\lib\\site-packages (from requests->transformers) (2.5.0)\n",
            "Requirement already satisfied: idna<4,>=2.5 in d:\\rag_helpdesk\\.venv\\lib\\site-packages (from requests->transformers) (3.10)\n",
            "GPU detected: NVIDIA GeForce RTX 2060 SUPER\n"
          ]
        },
        {
          "output_type": "stream",
          "name": "stderr",
          "text": [
            "\n",
            "[notice] A new release of pip is available: 23.0.1 -> 25.1.1\n",
            "[notice] To update, run: python.exe -m pip install --upgrade pip\n"
          ]
        }
      ],
      "source": [
        "!pip install tqdm\n",
        "!pip install transformers\n",
        "from sklearn.compose import ColumnTransformer\n",
        "from sklearn.preprocessing import StandardScaler, OneHotEncoder\n",
        "import joblib\n",
        "import json\n",
        "from sklearn.metrics import mean_absolute_error\n",
        "from tqdm.auto import tqdm\n",
        "from torch.optim import AdamW\n",
        "from transformers import get_linear_schedule_with_warmup\n",
        "from torch import nn\n",
        "from transformers import AutoModel\n",
        "from torch.utils.data import DataLoader\n",
        "from transformers import AutoTokenizer\n",
        "import numpy as np\n",
        "import seaborn as sns\n",
        "import matplotlib.pyplot as plt\n",
        "import torch\n",
        "import os\n",
        "import pandas as pd\n",
        "from sklearn.model_selection import train_test_split\n",
        "from collections import defaultdict\n",
        "import time\n",
        "\n",
        "sns.set_style(\"whitegrid\")\n",
        "plt.rcParams.update({'font.size': 12, 'axes.titlesize': 14, 'axes.labelsize': 12})\n",
        "\n",
        "if torch.cuda.is_available():\n",
        "    print(f\"GPU detected: {torch.cuda.get_device_name(0)}\")\n",
        "    device = torch.device(\"cuda\")\n",
        "else:\n",
        "    print(\"GPU not detected, training will be done on CPU\")\n",
        "    device = torch.device(\"cpu\")"
      ]
    },
    {
      "cell_type": "markdown",
      "source": [
        "## 1. Loading the Data\n",
        "\n",
        "The foundation of any Machine Learning project is data. In this section, i will establish a connection to Google Drive, where our dataset is persistently stored, and load it into a Pandas dataframe. This will allow to begin manipulation and analysis"
      ],
      "metadata": {
        "id": "FjDt6b2LQc9N"
      }
    },
    {
      "cell_type": "code",
      "source": [
        "caminho_do_arquivo = os.path.join('data', 'raw', 'car_prices.csv')\n",
        "\n",
        "try:\n",
        "    df = pd.read_csv(caminho_do_arquivo)\n",
        "    print(f\"dataset loaded, finded {df.shape[0]} lines and {df.shape[1]} columns\")\n",
        "except FileNotFoundError:\n",
        "    print(f\"docs not finded in '{caminho_do_arquivo}'.\")\n",
        "except Exception as e:\n",
        "    print(f\"unexpected error: {e}\")"
      ],
      "metadata": {
        "colab": {
          "base_uri": "https://localhost:8080/"
        },
        "id": "U8nKoPL9Qp81",
        "outputId": "93c96a14-af0b-4f39-d385-1ddcb8ebd292"
      },
      "execution_count": null,
      "outputs": [
        {
          "output_type": "stream",
          "name": "stdout",
          "text": [
            "dataset loaded, finded 558837 lines and 16 columns\n"
          ]
        }
      ]
    },
    {
      "cell_type": "markdown",
      "source": [
        "## 2. Initial Inspection and Data Quality Diagnosis\n",
        "\n",
        "Before any in-depth analysis, it is crucial to perform a health diagnosis of my data. In this step, i will answer three key questions:\n",
        "1. What is the structure of the data?\n",
        "2. What are the data types of each column?\n",
        "3. How big is the missing data problem?\n",
        "\n",
        "My hypothesis is that columns that rely on manual data entry, such as trim or interior, will have a significant percentage of null values, requiring a specific treatment strategy."
      ],
      "metadata": {
        "id": "Wsuavg1PS4n6"
      }
    },
    {
      "cell_type": "code",
      "source": [
        "print(\"5 firs lines\")\n",
        "display(df.head())\n",
        "\n",
        "print(\"\\ngeral information and type of data\")\n",
        "df.info()\n",
        "\n",
        "print(\"\\n% null values per column\")\n",
        "porcentagem_nulos = (df.isnull().sum() / len(df)) * 100\n",
        "print(porcentagem_nulos[porcentagem_nulos > 0].sort_values(ascending=False))"
      ],
      "metadata": {
        "colab": {
          "base_uri": "https://localhost:8080/",
          "height": 935
        },
        "id": "DcRxyF64TZFT",
        "outputId": "bf214805-a528-4c2a-8db3-5e70b0be4d07"
      },
      "execution_count": null,
      "outputs": [
        {
          "output_type": "stream",
          "name": "stdout",
          "text": [
            "5 firs lines\n"
          ]
        },
        {
          "output_type": "display_data",
          "data": {
            "text/plain": [
              "   year   make                model        trim   body transmission  \\\n",
              "0  2015    Kia              Sorento          LX    SUV    automatic   \n",
              "1  2015    Kia              Sorento          LX    SUV    automatic   \n",
              "2  2014    BMW             3 Series  328i SULEV  Sedan    automatic   \n",
              "3  2015  Volvo                  S60          T5  Sedan    automatic   \n",
              "4  2014    BMW  6 Series Gran Coupe        650i  Sedan    automatic   \n",
              "\n",
              "                 vin state  condition  odometer  color interior  \\\n",
              "0  5xyktca69fg566472    ca        5.0   16639.0  white    black   \n",
              "1  5xyktca69fg561319    ca        5.0    9393.0  white    beige   \n",
              "2  wba3c1c51ek116351    ca       45.0    1331.0   gray    black   \n",
              "3  yv1612tb4f1310987    ca       41.0   14282.0  white    black   \n",
              "4  wba6b2c57ed129731    ca       43.0    2641.0   gray    black   \n",
              "\n",
              "                                   seller      mmr  sellingprice  \\\n",
              "0                 kia motors america  inc  20500.0       21500.0   \n",
              "1                 kia motors america  inc  20800.0       21500.0   \n",
              "2  financial services remarketing (lease)  31900.0       30000.0   \n",
              "3                 volvo na rep/world omni  27500.0       27750.0   \n",
              "4  financial services remarketing (lease)  66000.0       67000.0   \n",
              "\n",
              "                                  saledate  \n",
              "0  Tue Dec 16 2014 12:30:00 GMT-0800 (PST)  \n",
              "1  Tue Dec 16 2014 12:30:00 GMT-0800 (PST)  \n",
              "2  Thu Jan 15 2015 04:30:00 GMT-0800 (PST)  \n",
              "3  Thu Jan 29 2015 04:30:00 GMT-0800 (PST)  \n",
              "4  Thu Dec 18 2014 12:30:00 GMT-0800 (PST)  "
            ],
            "text/html": [
              "<div>\n",
              "<style scoped>\n",
              "    .dataframe tbody tr th:only-of-type {\n",
              "        vertical-align: middle;\n",
              "    }\n",
              "\n",
              "    .dataframe tbody tr th {\n",
              "        vertical-align: top;\n",
              "    }\n",
              "\n",
              "    .dataframe thead th {\n",
              "        text-align: right;\n",
              "    }\n",
              "</style>\n",
              "<table border=\"1\" class=\"dataframe\">\n",
              "  <thead>\n",
              "    <tr style=\"text-align: right;\">\n",
              "      <th></th>\n",
              "      <th>year</th>\n",
              "      <th>make</th>\n",
              "      <th>model</th>\n",
              "      <th>trim</th>\n",
              "      <th>body</th>\n",
              "      <th>transmission</th>\n",
              "      <th>vin</th>\n",
              "      <th>state</th>\n",
              "      <th>condition</th>\n",
              "      <th>odometer</th>\n",
              "      <th>color</th>\n",
              "      <th>interior</th>\n",
              "      <th>seller</th>\n",
              "      <th>mmr</th>\n",
              "      <th>sellingprice</th>\n",
              "      <th>saledate</th>\n",
              "    </tr>\n",
              "  </thead>\n",
              "  <tbody>\n",
              "    <tr>\n",
              "      <th>0</th>\n",
              "      <td>2015</td>\n",
              "      <td>Kia</td>\n",
              "      <td>Sorento</td>\n",
              "      <td>LX</td>\n",
              "      <td>SUV</td>\n",
              "      <td>automatic</td>\n",
              "      <td>5xyktca69fg566472</td>\n",
              "      <td>ca</td>\n",
              "      <td>5.0</td>\n",
              "      <td>16639.0</td>\n",
              "      <td>white</td>\n",
              "      <td>black</td>\n",
              "      <td>kia motors america  inc</td>\n",
              "      <td>20500.0</td>\n",
              "      <td>21500.0</td>\n",
              "      <td>Tue Dec 16 2014 12:30:00 GMT-0800 (PST)</td>\n",
              "    </tr>\n",
              "    <tr>\n",
              "      <th>1</th>\n",
              "      <td>2015</td>\n",
              "      <td>Kia</td>\n",
              "      <td>Sorento</td>\n",
              "      <td>LX</td>\n",
              "      <td>SUV</td>\n",
              "      <td>automatic</td>\n",
              "      <td>5xyktca69fg561319</td>\n",
              "      <td>ca</td>\n",
              "      <td>5.0</td>\n",
              "      <td>9393.0</td>\n",
              "      <td>white</td>\n",
              "      <td>beige</td>\n",
              "      <td>kia motors america  inc</td>\n",
              "      <td>20800.0</td>\n",
              "      <td>21500.0</td>\n",
              "      <td>Tue Dec 16 2014 12:30:00 GMT-0800 (PST)</td>\n",
              "    </tr>\n",
              "    <tr>\n",
              "      <th>2</th>\n",
              "      <td>2014</td>\n",
              "      <td>BMW</td>\n",
              "      <td>3 Series</td>\n",
              "      <td>328i SULEV</td>\n",
              "      <td>Sedan</td>\n",
              "      <td>automatic</td>\n",
              "      <td>wba3c1c51ek116351</td>\n",
              "      <td>ca</td>\n",
              "      <td>45.0</td>\n",
              "      <td>1331.0</td>\n",
              "      <td>gray</td>\n",
              "      <td>black</td>\n",
              "      <td>financial services remarketing (lease)</td>\n",
              "      <td>31900.0</td>\n",
              "      <td>30000.0</td>\n",
              "      <td>Thu Jan 15 2015 04:30:00 GMT-0800 (PST)</td>\n",
              "    </tr>\n",
              "    <tr>\n",
              "      <th>3</th>\n",
              "      <td>2015</td>\n",
              "      <td>Volvo</td>\n",
              "      <td>S60</td>\n",
              "      <td>T5</td>\n",
              "      <td>Sedan</td>\n",
              "      <td>automatic</td>\n",
              "      <td>yv1612tb4f1310987</td>\n",
              "      <td>ca</td>\n",
              "      <td>41.0</td>\n",
              "      <td>14282.0</td>\n",
              "      <td>white</td>\n",
              "      <td>black</td>\n",
              "      <td>volvo na rep/world omni</td>\n",
              "      <td>27500.0</td>\n",
              "      <td>27750.0</td>\n",
              "      <td>Thu Jan 29 2015 04:30:00 GMT-0800 (PST)</td>\n",
              "    </tr>\n",
              "    <tr>\n",
              "      <th>4</th>\n",
              "      <td>2014</td>\n",
              "      <td>BMW</td>\n",
              "      <td>6 Series Gran Coupe</td>\n",
              "      <td>650i</td>\n",
              "      <td>Sedan</td>\n",
              "      <td>automatic</td>\n",
              "      <td>wba6b2c57ed129731</td>\n",
              "      <td>ca</td>\n",
              "      <td>43.0</td>\n",
              "      <td>2641.0</td>\n",
              "      <td>gray</td>\n",
              "      <td>black</td>\n",
              "      <td>financial services remarketing (lease)</td>\n",
              "      <td>66000.0</td>\n",
              "      <td>67000.0</td>\n",
              "      <td>Thu Dec 18 2014 12:30:00 GMT-0800 (PST)</td>\n",
              "    </tr>\n",
              "  </tbody>\n",
              "</table>\n",
              "</div>"
            ]
          },
          "metadata": {}
        },
        {
          "output_type": "stream",
          "name": "stdout",
          "text": [
            "\n",
            "geral information and type of data\n",
            "<class 'pandas.core.frame.DataFrame'>\n",
            "RangeIndex: 558837 entries, 0 to 558836\n",
            "Data columns (total 16 columns):\n",
            " #   Column        Non-Null Count   Dtype  \n",
            "---  ------        --------------   -----  \n",
            " 0   year          558837 non-null  int64  \n",
            " 1   make          548536 non-null  object \n",
            " 2   model         548438 non-null  object \n",
            " 3   trim          548186 non-null  object \n",
            " 4   body          545642 non-null  object \n",
            " 5   transmission  493485 non-null  object \n",
            " 6   vin           558833 non-null  object \n",
            " 7   state         558837 non-null  object \n",
            " 8   condition     547017 non-null  float64\n",
            " 9   odometer      558743 non-null  float64\n",
            " 10  color         558088 non-null  object \n",
            " 11  interior      558088 non-null  object \n",
            " 12  seller        558837 non-null  object \n",
            " 13  mmr           558799 non-null  float64\n",
            " 14  sellingprice  558825 non-null  float64\n",
            " 15  saledate      558825 non-null  object \n",
            "dtypes: float64(4), int64(1), object(11)\n",
            "memory usage: 68.2+ MB\n",
            "\n",
            "% null values per column\n",
            "transmission    11.694287\n",
            "body             2.361154\n",
            "condition        2.115107\n",
            "trim             1.905922\n",
            "model            1.860829\n",
            "make             1.843292\n",
            "color            0.134028\n",
            "interior         0.134028\n",
            "odometer         0.016821\n",
            "mmr              0.006800\n",
            "sellingprice     0.002147\n",
            "saledate         0.002147\n",
            "vin              0.000716\n",
            "dtype: float64\n"
          ]
        }
      ]
    },
    {
      "cell_type": "markdown",
      "source": [
        "### 3. Data Cleaning and Missing Values ​​Handling\n",
        "\n",
        "Based on the previous diagnosis, i will now clean and prepare my dataset. The strategy i will be:\n",
        "1. Remove rows that contain null values ​​in columns that are almost complete.\n",
        "2. Fill the null values ​​of the most important categorical columns with the mode (the most frequent value).\n",
        "3. Fill the null values ​​of the numeric column condition with the median.\n",
        "4. Convert the saledate column to datetime format."
      ],
      "metadata": {
        "id": "3AMMn-lMdKsN"
      }
    },
    {
      "cell_type": "code",
      "source": [
        "df_limpo = df.copy()\n",
        "\n",
        "colunas_quase_completas = ['sellingprice', 'mmr', 'odometer', 'color', 'interior', 'vin', 'saledate']\n",
        "linhas_antes = len(df_limpo)\n",
        "df_limpo.dropna(subset=colunas_quase_completas, inplace=True)\n",
        "linhas_depois = len(df_limpo)\n",
        "print(f\"removed {linhas_antes - linhas_depois} lines on light cleaning\")\n",
        "\n",
        "colunas_para_imputar_moda = ['make', 'model', 'trim', 'body', 'transmission']\n",
        "for col in colunas_para_imputar_moda:\n",
        "    moda = df_limpo[col].mode()[0]\n",
        "    df_limpo[col] = df_limpo[col].fillna(moda)\n",
        "    print(f\"null values in '{col}' filled with: '{moda}'\")\n",
        "\n",
        "mediana_condition = df_limpo['condition'].median()\n",
        "df_limpo['condition'].fillna(mediana_condition, inplace=True)\n",
        "print(f\"null values ​​in 'condition' filled with median: {mediana_condition}\")\n",
        "\n",
        "\n",
        "df_limpo['saledate'] = pd.to_datetime(df_limpo['saledate'], utc=True, errors='coerce')\n",
        "df_limpo.dropna(subset=['saledate'], inplace=True)\n",
        "print(\"column 'saledate' converted to datetime type\")\n",
        "\n",
        "valores_nulos_restantes = df_limpo.isnull().sum().sum()\n",
        "if valores_nulos_restantes == 0:\n",
        "    print(\"There are no more null values ​​in the dataset\")\n",
        "else:\n",
        "    print(f\"there are still some left {valores_nulos_restantes} null values\")\n",
        "\n",
        "print(f\"\\nfinal DataFrame size: {df_limpo.shape[0]} lines\")"
      ],
      "metadata": {
        "colab": {
          "base_uri": "https://localhost:8080/"
        },
        "id": "oZS1Z08VdXMZ",
        "outputId": "cdc58ebf-bb88-4eeb-8ac5-99a032a7a913"
      },
      "execution_count": null,
      "outputs": [
        {
          "output_type": "stream",
          "name": "stdout",
          "text": [
            "removed 874 lines on light cleaning\n",
            "null values in 'make' filled with: 'Ford'\n",
            "null values in 'model' filled with: 'Altima'\n",
            "null values in 'trim' filled with: 'Base'\n",
            "null values in 'body' filled with: 'Sedan'\n",
            "null values in 'transmission' filled with: 'automatic'\n",
            "null values ​​in 'condition' filled with median: 35.0\n"
          ]
        },
        {
          "output_type": "stream",
          "name": "stderr",
          "text": [
            "C:\\Users\\Bruno\\AppData\\Local\\Temp\\ipykernel_18960\\2553974628.py:16: FutureWarning: A value is trying to be set on a copy of a DataFrame or Series through chained assignment using an inplace method.\n",
            "The behavior will change in pandas 3.0. This inplace method will never work because the intermediate object on which we are setting values always behaves as a copy.\n",
            "\n",
            "For example, when doing 'df[col].method(value, inplace=True)', try using 'df.method({col: value}, inplace=True)' or df[col] = df[col].method(value) instead, to perform the operation inplace on the original object.\n",
            "\n",
            "\n",
            "  df_limpo['condition'].fillna(mediana_condition, inplace=True)\n",
            "C:\\Users\\Bruno\\AppData\\Local\\Temp\\ipykernel_18960\\2553974628.py:20: UserWarning: Could not infer format, so each element will be parsed individually, falling back to `dateutil`. To ensure parsing is consistent and as-expected, please specify a format.\n",
            "  df_limpo['saledate'] = pd.to_datetime(df_limpo['saledate'], utc=True, errors='coerce')\n"
          ]
        },
        {
          "output_type": "stream",
          "name": "stdout",
          "text": [
            "column 'saledate' converted to datetime type\n",
            "There are no more null values ​​in the dataset\n",
            "\n",
            "final DataFrame size: 557963 lines\n"
          ]
        }
      ]
    },
    {
      "cell_type": "markdown",
      "source": [
        "## 4. Feature engineering (new columns)\n",
        "\n",
        "With the data cleaned, i can now create more informative features for our model. Machine learning models rarely learn well from raw data; i need features that capture patterns more explicitly.\n",
        "\n",
        "i will create two very important features:\n",
        "1. **Car Age:** Instead of model year, car age is a much more powerful feature for predicting depreciation and price.\n",
        "2. **Sale Date Features:** We will extract the month, day of the week, and day of the year from the sale date. This can capture market seasonality (e.g. do cars sell more in December?)."
      ],
      "metadata": {
        "id": "-THV6_0Qg0pE"
      }
    },
    {
      "cell_type": "code",
      "source": [
        "df_features = df_limpo.copy()\n",
        "\n",
        "ano_atual = pd.to_datetime('now').year\n",
        "df_features['age'] = ano_atual - df_features['year']\n",
        "print(\"feature 'age' created\")\n",
        "\n",
        "df_features['sale_month'] = df_features['saledate'].dt.month\n",
        "df_features['sale_dayofweek'] = df_features['saledate'].dt.dayofweek\n",
        "df_features['sale_dayofyear'] = df_features['saledate'].dt.dayofyear\n",
        "print(\"features of data ('sale_month', 'sale_dayofweek', 'sale_dayofyear') created\")\n",
        "\n",
        "df_features = df_features.drop(['year', 'saledate'], axis=1)\n",
        "print(\"original columns 'year' e 'saledate' removed\")\n",
        "\n",
        "print(\"\\nsample of dataframe with new features\")\n",
        "display(df_features[['age', 'sale_month', 'sale_dayofweek', 'sale_dayofyear', 'sellingprice']].head())"
      ],
      "metadata": {
        "colab": {
          "base_uri": "https://localhost:8080/",
          "height": 293
        },
        "id": "iVWldJH3hRoV",
        "outputId": "6322e597-dcb7-4f3b-8e9c-df7de77e7f3e"
      },
      "execution_count": null,
      "outputs": [
        {
          "output_type": "stream",
          "name": "stdout",
          "text": [
            "feature 'age' created\n",
            "features of data ('sale_month', 'sale_dayofweek', 'sale_dayofyear') created\n",
            "original columns 'year' e 'saledate' removed\n",
            "\n",
            "sample of dataframe with new features\n"
          ]
        },
        {
          "output_type": "display_data",
          "data": {
            "text/plain": [
              "   age  sale_month  sale_dayofweek  sale_dayofyear  sellingprice\n",
              "0   10          12               1             350       21500.0\n",
              "1   10          12               1             350       21500.0\n",
              "2   11           1               2              14       30000.0\n",
              "3   10           1               2              28       27750.0\n",
              "4   11          12               3             352       67000.0"
            ],
            "text/html": [
              "<div>\n",
              "<style scoped>\n",
              "    .dataframe tbody tr th:only-of-type {\n",
              "        vertical-align: middle;\n",
              "    }\n",
              "\n",
              "    .dataframe tbody tr th {\n",
              "        vertical-align: top;\n",
              "    }\n",
              "\n",
              "    .dataframe thead th {\n",
              "        text-align: right;\n",
              "    }\n",
              "</style>\n",
              "<table border=\"1\" class=\"dataframe\">\n",
              "  <thead>\n",
              "    <tr style=\"text-align: right;\">\n",
              "      <th></th>\n",
              "      <th>age</th>\n",
              "      <th>sale_month</th>\n",
              "      <th>sale_dayofweek</th>\n",
              "      <th>sale_dayofyear</th>\n",
              "      <th>sellingprice</th>\n",
              "    </tr>\n",
              "  </thead>\n",
              "  <tbody>\n",
              "    <tr>\n",
              "      <th>0</th>\n",
              "      <td>10</td>\n",
              "      <td>12</td>\n",
              "      <td>1</td>\n",
              "      <td>350</td>\n",
              "      <td>21500.0</td>\n",
              "    </tr>\n",
              "    <tr>\n",
              "      <th>1</th>\n",
              "      <td>10</td>\n",
              "      <td>12</td>\n",
              "      <td>1</td>\n",
              "      <td>350</td>\n",
              "      <td>21500.0</td>\n",
              "    </tr>\n",
              "    <tr>\n",
              "      <th>2</th>\n",
              "      <td>11</td>\n",
              "      <td>1</td>\n",
              "      <td>2</td>\n",
              "      <td>14</td>\n",
              "      <td>30000.0</td>\n",
              "    </tr>\n",
              "    <tr>\n",
              "      <th>3</th>\n",
              "      <td>10</td>\n",
              "      <td>1</td>\n",
              "      <td>2</td>\n",
              "      <td>28</td>\n",
              "      <td>27750.0</td>\n",
              "    </tr>\n",
              "    <tr>\n",
              "      <th>4</th>\n",
              "      <td>11</td>\n",
              "      <td>12</td>\n",
              "      <td>3</td>\n",
              "      <td>352</td>\n",
              "      <td>67000.0</td>\n",
              "    </tr>\n",
              "  </tbody>\n",
              "</table>\n",
              "</div>"
            ]
          },
          "metadata": {}
        }
      ]
    },
    {
      "cell_type": "markdown",
      "source": [
        "### 4.1. Advanced Feature Engineering\n",
        "\n",
        "To further enrich the dataset, I will create interaction and popularity features. These features can capture more complex relationships that are not obvious to the model if it just looks at the columns individually.\n",
        "\n",
        "1. **Popularity Features:** I will calculate the frequency of each make and model to create features that represent how common or rare a vehicle is in the market.\n",
        "\n",
        "2. **Interaction Feature (Vehicle Usage):** I will create a km_per_year feature by dividing the odometer by the age of the car. This normalizes the mileage by age, giving a much clearer measure of the \"usage level\" of the vehicle."
      ],
      "metadata": {
        "id": "0KHiugIY1SYO"
      }
    },
    {
      "cell_type": "code",
      "source": [
        "df_advanced_features = df_features.copy()\n",
        "\n",
        "make_counts = df_advanced_features['make'].value_counts(normalize=True)\n",
        "df_advanced_features['make_popularity'] = df_advanced_features['make'].map(make_counts)\n",
        "print(\"feature 'make_popularity' created\")\n",
        "\n",
        "model_counts = df_advanced_features['model'].value_counts(normalize=True)\n",
        "df_advanced_features['model_popularity'] = df_advanced_features['model'].map(model_counts)\n",
        "print(\"feature 'model_popularity' created\")\n",
        "\n",
        "df_advanced_features['km_per_year'] = df_advanced_features['odometer'] / (df_advanced_features['age'] + 1)\n",
        "print(\"feature 'km_per_year' created\")\n",
        "\n",
        "print(\"\\nsample of dataframe with new features\")\n",
        "display(df_advanced_features[['make', 'make_popularity', 'model', 'model_popularity', 'age', 'odometer', 'km_per_year', 'sellingprice']].head())\n",
        "\n",
        "df_features = df_advanced_features\n",
        "print(\"\\nmain DataFrame updated with new features\")"
      ],
      "metadata": {
        "colab": {
          "base_uri": "https://localhost:8080/",
          "height": 328
        },
        "id": "E5B8MRRe1sii",
        "outputId": "7e80353d-1333-44bd-e409-46fda1c2539f"
      },
      "execution_count": null,
      "outputs": [
        {
          "output_type": "stream",
          "name": "stdout",
          "text": [
            "feature 'make_popularity' created\n",
            "feature 'model_popularity' created\n",
            "feature 'km_per_year' created\n",
            "\n",
            "sample of dataframe with new features\n"
          ]
        },
        {
          "output_type": "display_data",
          "data": {
            "text/plain": [
              "    make  make_popularity                model  model_popularity  age  \\\n",
              "0    Kia         0.032387              Sorento          0.006108   10   \n",
              "1    Kia         0.032387              Sorento          0.006108   10   \n",
              "2    BMW         0.036965             3 Series          0.014671   11   \n",
              "3  Volvo         0.006773                  S60          0.002063   10   \n",
              "4    BMW         0.036965  6 Series Gran Coupe          0.000186   11   \n",
              "\n",
              "   odometer  km_per_year  sellingprice  \n",
              "0   16639.0  1512.636364       21500.0  \n",
              "1    9393.0   853.909091       21500.0  \n",
              "2    1331.0   110.916667       30000.0  \n",
              "3   14282.0  1298.363636       27750.0  \n",
              "4    2641.0   220.083333       67000.0  "
            ],
            "text/html": [
              "<div>\n",
              "<style scoped>\n",
              "    .dataframe tbody tr th:only-of-type {\n",
              "        vertical-align: middle;\n",
              "    }\n",
              "\n",
              "    .dataframe tbody tr th {\n",
              "        vertical-align: top;\n",
              "    }\n",
              "\n",
              "    .dataframe thead th {\n",
              "        text-align: right;\n",
              "    }\n",
              "</style>\n",
              "<table border=\"1\" class=\"dataframe\">\n",
              "  <thead>\n",
              "    <tr style=\"text-align: right;\">\n",
              "      <th></th>\n",
              "      <th>make</th>\n",
              "      <th>make_popularity</th>\n",
              "      <th>model</th>\n",
              "      <th>model_popularity</th>\n",
              "      <th>age</th>\n",
              "      <th>odometer</th>\n",
              "      <th>km_per_year</th>\n",
              "      <th>sellingprice</th>\n",
              "    </tr>\n",
              "  </thead>\n",
              "  <tbody>\n",
              "    <tr>\n",
              "      <th>0</th>\n",
              "      <td>Kia</td>\n",
              "      <td>0.032387</td>\n",
              "      <td>Sorento</td>\n",
              "      <td>0.006108</td>\n",
              "      <td>10</td>\n",
              "      <td>16639.0</td>\n",
              "      <td>1512.636364</td>\n",
              "      <td>21500.0</td>\n",
              "    </tr>\n",
              "    <tr>\n",
              "      <th>1</th>\n",
              "      <td>Kia</td>\n",
              "      <td>0.032387</td>\n",
              "      <td>Sorento</td>\n",
              "      <td>0.006108</td>\n",
              "      <td>10</td>\n",
              "      <td>9393.0</td>\n",
              "      <td>853.909091</td>\n",
              "      <td>21500.0</td>\n",
              "    </tr>\n",
              "    <tr>\n",
              "      <th>2</th>\n",
              "      <td>BMW</td>\n",
              "      <td>0.036965</td>\n",
              "      <td>3 Series</td>\n",
              "      <td>0.014671</td>\n",
              "      <td>11</td>\n",
              "      <td>1331.0</td>\n",
              "      <td>110.916667</td>\n",
              "      <td>30000.0</td>\n",
              "    </tr>\n",
              "    <tr>\n",
              "      <th>3</th>\n",
              "      <td>Volvo</td>\n",
              "      <td>0.006773</td>\n",
              "      <td>S60</td>\n",
              "      <td>0.002063</td>\n",
              "      <td>10</td>\n",
              "      <td>14282.0</td>\n",
              "      <td>1298.363636</td>\n",
              "      <td>27750.0</td>\n",
              "    </tr>\n",
              "    <tr>\n",
              "      <th>4</th>\n",
              "      <td>BMW</td>\n",
              "      <td>0.036965</td>\n",
              "      <td>6 Series Gran Coupe</td>\n",
              "      <td>0.000186</td>\n",
              "      <td>11</td>\n",
              "      <td>2641.0</td>\n",
              "      <td>220.083333</td>\n",
              "      <td>67000.0</td>\n",
              "    </tr>\n",
              "  </tbody>\n",
              "</table>\n",
              "</div>"
            ]
          },
          "metadata": {}
        },
        {
          "output_type": "stream",
          "name": "stdout",
          "text": [
            "\n",
            "main DataFrame updated with new features\n"
          ]
        }
      ]
    },
    {
      "cell_type": "markdown",
      "source": [
        "## 5. Preparing the Transformer: Converting Rows to Strings\n",
        "\n",
        "Transformer models, such as BERT, which I will use for fine-tuning, are experts at understanding the meaning and relationships in sequences of text. In order for it to \"understand\" the data about a car, we need a strategy to convert each row of our dataframe into a single \"sentence\" that describes the vehicle in a structured way.\n",
        "\n",
        "**My approach will be:**\n",
        "1. Select the most relevant features that we want the model to consider.\n",
        "2. For each car (row), create a single string that combines the feature name and its value, separating them with a special character.\n",
        "\n",
        "For example, a car will become the sentence:\n",
        "`make [Ford] | model [Ka] | age [7] | odometer [50000] | [manual] transmission\n",
        "\n",
        "This textual representation allows the Transformer's \"attention\" mechanism to learn the complex interactions between the different features of the car, much like it learns the relationships between words in a typical sentence."
      ],
      "metadata": {
        "id": "ldk_UO61kyOH"
      }
    },
    {
      "cell_type": "code",
      "source": [
        "\n",
        "features_para_texto = [\n",
        "    'make', 'model', 'trim', 'body', 'transmission', 'color',\n",
        "    'interior', 'age', 'odometer', 'sale_month', 'sale_dayofweek'\n",
        "]\n",
        "\n",
        "def criar_representacao_textual(row):\n",
        "    partes = [f\"{coluna} [{str(row[coluna])}]\" for coluna in features_para_texto]\n",
        "    return \" | \".join(partes)\n",
        "\n",
        "df_features['text'] = df_features.apply(criar_representacao_textual, axis=1)\n",
        "print(\"column text created\")\n",
        "\n",
        "df_final = df_features[['text', 'sellingprice']].copy()\n",
        "\n",
        "print(\"\\nsample of strings created\")\n",
        "for i in range(5):\n",
        "    print(f\"Carro {i}:\")\n",
        "    print(df_final['text'].iloc[i])\n",
        "    print(\"-\" * 20)"
      ],
      "metadata": {
        "colab": {
          "base_uri": "https://localhost:8080/"
        },
        "id": "Q1Zqcb7Xk8R7",
        "outputId": "b8964698-edcf-4822-e766-d4b47c76858e"
      },
      "execution_count": null,
      "outputs": [
        {
          "output_type": "stream",
          "name": "stdout",
          "text": [
            "column text created\n",
            "\n",
            "sample of strings created\n",
            "Carro 0:\n",
            "make [Kia] | model [Sorento] | trim [LX] | body [SUV] | transmission [automatic] | color [white] | interior [black] | age [10] | odometer [16639.0] | sale_month [12] | sale_dayofweek [1]\n",
            "--------------------\n",
            "Carro 1:\n",
            "make [Kia] | model [Sorento] | trim [LX] | body [SUV] | transmission [automatic] | color [white] | interior [beige] | age [10] | odometer [9393.0] | sale_month [12] | sale_dayofweek [1]\n",
            "--------------------\n",
            "Carro 2:\n",
            "make [BMW] | model [3 Series] | trim [328i SULEV] | body [Sedan] | transmission [automatic] | color [gray] | interior [black] | age [11] | odometer [1331.0] | sale_month [1] | sale_dayofweek [2]\n",
            "--------------------\n",
            "Carro 3:\n",
            "make [Volvo] | model [S60] | trim [T5] | body [Sedan] | transmission [automatic] | color [white] | interior [black] | age [10] | odometer [14282.0] | sale_month [1] | sale_dayofweek [2]\n",
            "--------------------\n",
            "Carro 4:\n",
            "make [BMW] | model [6 Series Gran Coupe] | trim [650i] | body [Sedan] | transmission [automatic] | color [gray] | interior [black] | age [11] | odometer [2641.0] | sale_month [12] | sale_dayofweek [3]\n",
            "--------------------\n"
          ]
        }
      ]
    },
    {
      "cell_type": "markdown",
      "source": [
        "## 6. Splitting the Data: Creating the Training and Test Sets\n",
        "\n",
        "One of the most important rules in Machine Learning is to never evaluate the model with the same data it used to learn.\n",
        "\n",
        "To ensure an honest assessment of the models performance, I will split the dataset into two distinct groups using scikit-learn's train_test_split function:\n",
        "\n",
        "1. **Training Set (80% of the data):** This will be used during the training phase so that the model learns the patterns between a car's features and its price.\n",
        "\n",
        "2. **Test Set (remaining 20%):** This will be \"saved\" and untouched. We will only use this set at the end of the project to see how well the model generalizes to data it has never seen before.\n",
        "\n",
        "In addition, I will apply the logarithmic transformation (np.log1p) to the target variable (sellingprice) before the split. As we saw in the exploratory analysis, this helps to normalize the price distribution, which stabilizes and improves the training of the neural network."
      ],
      "metadata": {
        "id": "JwDx98oYmaj6"
      }
    },
    {
      "cell_type": "code",
      "source": [
        "X = df_final['text']\n",
        "y = df_final['sellingprice']\n",
        "\n",
        "y_log = np.log1p(y)\n",
        "print(\"target var 'sellingprice' transformed with log(1+x).\")\n",
        "\n",
        "X_train, X_test, y_train_log, y_test_log = train_test_split(\n",
        "    X, y_log, test_size=0.2, random_state=42\n",
        ")\n",
        "\n",
        "print(\"\\ndivision conclude\")\n",
        "print(f\"training set size (X_train): {X_train.shape[0]} samples\")\n",
        "print(f\"test set size (X_test):   {X_test.shape[0]} samples\")\n",
        "print(f\"training target size (y_train_log): {y_train_log.shape[0]} samples\")\n",
        "print(f\"test target size (y_test_log):   {y_test_log.shape[0]} samples\")"
      ],
      "metadata": {
        "colab": {
          "base_uri": "https://localhost:8080/"
        },
        "id": "WhuI4WrBorPw",
        "outputId": "50e4e966-0190-4d5e-f85c-0abd086bb757"
      },
      "execution_count": null,
      "outputs": [
        {
          "output_type": "stream",
          "name": "stdout",
          "text": [
            "target var 'sellingprice' transformed with log(1+x).\n",
            "\n",
            "division conclude\n",
            "training set size (X_train): 446370 samples\n",
            "test set size (X_test):   111593 samples\n",
            "training target size (y_train_log): 446370 samples\n",
            "test target size (y_test_log):   111593 samples\n"
          ]
        }
      ]
    },
    {
      "cell_type": "markdown",
      "source": [
        "## 7. Tokenization: Translating Text into Model Language\n",
        "\n",
        "Neural networks, and especially Transformer models, don’t understand words like ‘Ford’ or ‘auto’. They understand tokens. Tokenization is the process of “translating” the descriptive phrases I created for each car into a sequence of numbers (tokens) that the BERT model (BERTimbau) has been pre-trained to recognize.\n",
        "\n",
        "For each “phrase”, the tokenizer will generate two main outputs:\n",
        "* **input_ids:** The list of numeric IDs that represent each word or subword. Each number corresponds to an entry in the model’s vocabulary.\n",
        "* **attention_mask:** A list of 1s and 0s that tells the model which tokens are actual words (1) and which are “padding” (0) added just to make sure all the sequences in a batch are the same length.\n",
        "\n",
        "I will use Hugging Face's transformers library to load the exact tokenizer corresponding to the BERTimbau model, ensuring full compatibility."
      ],
      "metadata": {
        "id": "f8qvMJNNqF0D"
      }
    },
    {
      "cell_type": "code",
      "source": [
        "MODEL_NAME = 'neuralmind/bert-base-portuguese-cased'\n",
        "\n",
        "print(f\"loading tokenizer of model: '{MODEL_NAME}'...\")\n",
        "tokenizer = AutoTokenizer.from_pretrained(MODEL_NAME)\n",
        "print(\"tokenizer loaded\")\n",
        "\n",
        "MAX_LEN = 128\n",
        "\n",
        "print(\"\\ntokenizing data's training\")\n",
        "\n",
        "train_encodings = tokenizer(\n",
        "    list(X_train),\n",
        "    truncation=True,\n",
        "    padding=True,\n",
        "    max_length=MAX_LEN,\n",
        "    return_tensors='pt'\n",
        ")\n",
        "\n",
        "print(\"tokenizing test data's\")\n",
        "test_encodings = tokenizer(\n",
        "    list(X_test),\n",
        "    truncation=True,\n",
        "    padding=True,\n",
        "    max_length=MAX_LEN,\n",
        "    return_tensors='pt'\n",
        ")\n",
        "\n",
        "print(\"\\ntokenizing loaded\")\n",
        "print(f\"shape of the input_ids of training: {train_encodings['input_ids'].shape}\")"
      ],
      "metadata": {
        "colab": {
          "base_uri": "https://localhost:8080/"
        },
        "id": "duj-cmbIqiT0",
        "outputId": "50c99146-4445-44b1-c237-ed456f0e6edf"
      },
      "execution_count": null,
      "outputs": [
        {
          "output_type": "stream",
          "name": "stdout",
          "text": [
            "loading tokenizer of model: 'neuralmind/bert-base-portuguese-cased'...\n",
            "tokenizer loaded\n",
            "\n",
            "tokenizing data's training\n",
            "tokenizing test data's\n",
            "\n",
            "tokenizing loaded\n",
            "shape of the input_ids of training: torch.Size([446370, 104])\n"
          ]
        }
      ]
    },
    {
      "cell_type": "markdown",
      "source": [
        "## 8. Creating the PyTorch Dataset\n",
        "\n",
        "Now that the data is in the correct numeric format (tokens), I need to organize it into a structure that PyTorch understands natively. To do this, I'll create a custom Dataset class.\n",
        "\n",
        "To create a custom Dataset in PyTorch, the class needs three special methods:\n",
        "* `__init__()`: The constructor, where we receive and store our data.\n",
        "* `__len__()`: A simple method that returns the total number of samples in the dataset.\n",
        "* `__getitem__()`: The most important method. This is the one that is called when we request dataset[52]. It is responsible for fetching and returning a single sample of data."
      ],
      "metadata": {
        "id": "FotQvzBLwSy0"
      }
    },
    {
      "cell_type": "code",
      "source": [
        "class CarPriceDataset(torch.utils.data.Dataset):\n",
        "    def __init__(self, encodings, labels):\n",
        "        self.encodings = encodings\n",
        "        self.labels = torch.tensor(labels, dtype=torch.float32)\n",
        "\n",
        "    def __getitem__(self, idx):\n",
        "        item = {key: val[idx] for key, val in self.encodings.items()}\n",
        "        item['labels'] = self.labels[idx]\n",
        "        return item\n",
        "\n",
        "    def __len__(self):\n",
        "        return len(self.labels)\n",
        "\n",
        "train_dataset = CarPriceDataset(train_encodings, y_train_log.values)\n",
        "test_dataset = CarPriceDataset(test_encodings, y_test_log.values)\n",
        "\n",
        "print(\"training and test dataset created\")\n",
        "print(f\"number of samples in train_dataset: {len(train_dataset)}\")\n",
        "print(f\"number of samples in test_dataset: {len(test_dataset)}\")\n",
        "\n",
        "print(\"\\none example item of dataset :\")\n",
        "print(train_dataset[0])"
      ],
      "metadata": {
        "colab": {
          "base_uri": "https://localhost:8080/"
        },
        "id": "dF6_dhz-w3CL",
        "outputId": "e5283b95-d255-4c37-e69e-d9899b6fa357"
      },
      "execution_count": null,
      "outputs": [
        {
          "output_type": "stream",
          "name": "stdout",
          "text": [
            "training and test dataset created\n",
            "number of samples in train_dataset: 446370\n",
            "number of samples in test_dataset: 111593\n",
            "\n",
            "one example item of dataset :\n",
            "{'input_ids': tensor([  101,   223,  1550,   164,  3802, 22292,  3157,   735,   166,   196,\n",
            "        12066,   164,  2025,   840,   166,   196,  1480, 22287,   164,   276,\n",
            "        22321,   166,   196,  1151,  4071,   164,   530, 12717,   166,   196,\n",
            "         2153,  6510,   164,  9577,   393,   166,   196,  9164,   164, 12486,\n",
            "         3391, 22331,   166,   196,  2699,   164,   416, 22326,   166,   196,\n",
            "         9174,   164,  1433,   166,   196,   146, 10164,   735,   140,   164,\n",
            "         2336, 21906, 22307,   119,  2297,   166,   196,  1390, 22279,   168,\n",
            "         2713, 22296,   164,   511,   166,   196,  1390, 22279,   168,   180,\n",
            "         3961, 22294,  4132,  6505,   164,   245,   166,   102,     0,     0,\n",
            "            0,     0,     0,     0,     0,     0,     0,     0,     0,     0,\n",
            "            0,     0,     0,     0]), 'token_type_ids': tensor([0, 0, 0, 0, 0, 0, 0, 0, 0, 0, 0, 0, 0, 0, 0, 0, 0, 0, 0, 0, 0, 0, 0, 0,\n",
            "        0, 0, 0, 0, 0, 0, 0, 0, 0, 0, 0, 0, 0, 0, 0, 0, 0, 0, 0, 0, 0, 0, 0, 0,\n",
            "        0, 0, 0, 0, 0, 0, 0, 0, 0, 0, 0, 0, 0, 0, 0, 0, 0, 0, 0, 0, 0, 0, 0, 0,\n",
            "        0, 0, 0, 0, 0, 0, 0, 0, 0, 0, 0, 0, 0, 0, 0, 0, 0, 0, 0, 0, 0, 0, 0, 0,\n",
            "        0, 0, 0, 0, 0, 0, 0, 0]), 'attention_mask': tensor([1, 1, 1, 1, 1, 1, 1, 1, 1, 1, 1, 1, 1, 1, 1, 1, 1, 1, 1, 1, 1, 1, 1, 1,\n",
            "        1, 1, 1, 1, 1, 1, 1, 1, 1, 1, 1, 1, 1, 1, 1, 1, 1, 1, 1, 1, 1, 1, 1, 1,\n",
            "        1, 1, 1, 1, 1, 1, 1, 1, 1, 1, 1, 1, 1, 1, 1, 1, 1, 1, 1, 1, 1, 1, 1, 1,\n",
            "        1, 1, 1, 1, 1, 1, 1, 1, 1, 1, 1, 1, 1, 1, 1, 1, 0, 0, 0, 0, 0, 0, 0, 0,\n",
            "        0, 0, 0, 0, 0, 0, 0, 0]), 'labels': tensor(9.8092)}\n"
          ]
        }
      ]
    },
    {
      "cell_type": "markdown",
      "source": [
        "## 9. Creating the DataLoader for Batch Training\n",
        "\n",
        "Its function is to take the data from the Dataset and group it into batches. Instead of training the model with one car at a time, which would be very inefficient, I will train it with a batch of, for example, 16 or 32 cars simultaneously. This maximizes the use of the GPU, since it is specialized in doing many mathematical operations in parallel.\n",
        "\n",
        "In addition, the training DataLoader has a crucial function: to shuffle the data at each new \"epoch\" (a complete pass through the training dataset). This ensures that the model does not learn any accidental order in the data, which improves its generalization ability."
      ],
      "metadata": {
        "id": "xfqKTAUyyFGY"
      }
    },
    {
      "cell_type": "code",
      "source": [
        "BATCH_SIZE = 16\n",
        "train_loader = DataLoader(\n",
        "    train_dataset,\n",
        "    batch_size=BATCH_SIZE,\n",
        "    shuffle=True\n",
        ")\n",
        "\n",
        "test_loader = DataLoader(\n",
        "    test_dataset,\n",
        "    batch_size=BATCH_SIZE,\n",
        "    shuffle=False\n",
        ")\n",
        "\n",
        "print(\"dataloarder of training and tests created\")\n",
        "print(f\"the training DataLoader will have approximately {len(train_loader)} lots per epoch\")\n",
        "print(f\"the test DataLoader will be approximately {len(test_loader)} lots\")"
      ],
      "metadata": {
        "colab": {
          "base_uri": "https://localhost:8080/"
        },
        "id": "HiCgz-JaynCS",
        "outputId": "3e972e1b-e392-4e17-9001-bffcb5742d92"
      },
      "execution_count": null,
      "outputs": [
        {
          "output_type": "stream",
          "name": "stdout",
          "text": [
            "dataloarder of training and tests created\n",
            "the training DataLoader will have approximately 27899 lots per epoch\n",
            "the test DataLoader will be approximately 6975 lots\n"
          ]
        }
      ]
    },
    {
      "cell_type": "markdown",
      "source": [
        "## 10. Building the Model Architecture with PyTorch and Transformers\n",
        "\n",
        "This is the core AI engineering step of the project: defining the \"brain\" of the system, which will learn to predict prices. To do this, I will use a powerful and efficient technique called Transfer Learning.\n",
        "\n",
        "We will not build a neural network from scratch. Instead, we will take a giant pre-trained model, BERTimbau, and fine-tune it for the specific regression task.\n",
        "\n",
        "Our architecture will have two main parts:\n",
        "\n",
        "1. **The Backbone:** The pre-trained BERTimbau. Its job will be to read the \"sentence\" that describes the car (e.g. `make [Ford] | model [Ka]...`) and generate a rich vector representation that captures all the meaning and relationships between the features.\n",
        "\n",
        "2. **The Regression \"Head\":** This is the custom part. We will add on top of BERT a small neural network with a few linear layers. Its job is to take the rich BERT representation and map it to a single number: the predicted price of the car.\n",
        "\n",
        "To combat overfitting, I’ll add Dropout layers to the regression “head.” During training, they randomly turn off some neurons, forcing the network to learn more robustly and generalize better to new data."
      ],
      "metadata": {
        "id": "Gv1y3rBr0jxl"
      }
    },
    {
      "cell_type": "code",
      "source": [
        "class RegressionTransformer(nn.Module):\n",
        "    def __init__(self, model_name=MODEL_NAME):\n",
        "        super(RegressionTransformer, self).__init__()\n",
        "\n",
        "        print(f\"loading model: {model_name}...\")\n",
        "        self.bert = AutoModel.from_pretrained(model_name)\n",
        "\n",
        "        self.regressor = nn.Sequential(\n",
        "            nn.Dropout(p=0.2),\n",
        "            nn.Linear(self.bert.config.hidden_size, 128),\n",
        "            nn.ReLU(),\n",
        "            nn.Dropout(p=0.2),\n",
        "            nn.Linear(128, 1)\n",
        "        )\n",
        "        print(\"model defined\")\n",
        "\n",
        "    def forward(self, input_ids, attention_mask):\n",
        "        outputs = self.bert(\n",
        "            input_ids=input_ids,\n",
        "            attention_mask=attention_mask\n",
        "        )\n",
        "\n",
        "        pooled_output = outputs.pooler_output\n",
        "        price_prediction = self.regressor(pooled_output)\n",
        "        return price_prediction\n",
        "\n",
        "model = RegressionTransformer()\n",
        "\n",
        "model.to(device)\n",
        "\n",
        "print(f\"\\nmodel moved to device: {device}\")"
      ],
      "metadata": {
        "colab": {
          "base_uri": "https://localhost:8080/"
        },
        "id": "gNtw8qTC1clv",
        "outputId": "b4e29fad-f7e6-4793-9806-584fcb212d6c"
      },
      "execution_count": null,
      "outputs": [
        {
          "output_type": "stream",
          "name": "stdout",
          "text": [
            "loading model: neuralmind/bert-base-portuguese-cased...\n",
            "model defined\n",
            "\n",
            "model moved to device: cuda\n"
          ]
        }
      ]
    },
    {
      "cell_type": "markdown",
      "source": [
        "## 11. Defining the Loss Function and the Optimizer\n",
        "\n",
        "Now that we have the model architecture, we need two last tools for training:\n",
        "\n",
        "**1. The Loss Function The Error \"Ruler\"**\n",
        "Think of the Loss Function as a ruler. For each price prediction the model makes, we use this ruler to measure the \"distance\" (the error) between the prediction and the actual price of the car. The goal of training is to make the value of this \"ruler\" as small as possible.\n",
        "\n",
        "For the regression problem, I will use L1Loss, also known as Mean Absolute Error (MAE). It simply calculates the average absolute difference between the actual and predicted value (`|actual - predicted|`). It is robust and easy to interpret: an MAE of 0.1, for example, will mean that the model is missing, on average, R$ 0.1 in the log value of the price.\n",
        "\n",
        "**2. The Optimizer**\n",
        "It looks at the error measured by the ruler and, using the gradient calculated by backpropagation, adjusts each of the millions of weights in the neural network in the right direction to reduce that error.\n",
        "\n",
        "I will use AdamW, one of the most popular and effective optimizers for training Transformers. It is an evolution of Adam that incorporates a technique called Weight Decay, one of the weapons against overfitting that helps keep the model weights small and prevent the model from becoming too complex.\n",
        "\n",
        "In addition, I will use a Learning Rate Scheduler, which adjusts the intensity of learning over time, starting faster and making finer adjustments at the end."
      ],
      "metadata": {
        "id": "oCfwx82y3y_-"
      }
    },
    {
      "cell_type": "code",
      "source": [
        "EPOCHS = 12\n",
        "LEARNING_RATE = 2e-5\n",
        "\n",
        "loss_function = nn.L1Loss()\n",
        "print(\"MAE defined\")\n",
        "\n",
        "\n",
        "optimizer = AdamW(\n",
        "    model.parameters(),\n",
        "    lr=LEARNING_RATE\n",
        ")\n",
        "print(f\"optimizer AdamW defined with learning rate: {LEARNING_RATE}\")\n",
        "\n",
        "total_steps = len(train_loader) * EPOCHS\n",
        "\n",
        "scheduler = get_linear_schedule_with_warmup(\n",
        "    optimizer,\n",
        "    num_warmup_steps=0,\n",
        "    num_training_steps=total_steps\n",
        ")\n",
        "print(\"Learning Rate Scheduler configured\")"
      ],
      "metadata": {
        "colab": {
          "base_uri": "https://localhost:8080/"
        },
        "id": "uu0UI1-x69Cp",
        "outputId": "a6afa502-e2af-45ca-de06-96786f0be76b"
      },
      "execution_count": null,
      "outputs": [
        {
          "output_type": "stream",
          "name": "stdout",
          "text": [
            "MAE defined\n",
            "optimizer AdamW defined with learning rate: 2e-05\n",
            "Learning Rate Scheduler configured\n"
          ]
        }
      ]
    },
    {
      "cell_type": "markdown",
      "source": [
        "## 12. The Training and Evaluation Functions\n",
        "\n",
        "With all of our components defined (model, dataloaders, optimizer, etc.), let's now create the logic that ties them together. To keep the code organized, I'll create two separate functions:\n",
        "\n",
        "1. **train_epoch() (The Training Function):**\n",
        "This function will be responsible for running a full epoch of training. An \"epoch\" means going through our entire train_loader once. For each batch of data, this function will:\n",
        "* Move the data to the GPU.\n",
        "* Make a prediction with the model (forward pass).\n",
        "* Calculate the error (loss) using our L1Loss.\n",
        "* Calculate the gradients with backpropagation to know how to correct each model weight.\n",
        "* Update the model weights using the optimizer.\n",
        "* Adjust the learning rate with the scheduler.\n",
        "* At the end, it will return the average error for that epoch.\n",
        "\n",
        "2. **evaluate() (The Evaluation Function):**\n",
        "This function is simpler. It will go through the test_loader and make predictions, but without updating the weights (no backpropagation or optimizer). Its only goal is to calculate the average error on the test set. It is with this function that I will monitor whether the model is actually learning to generalize and detect overfitting (when the training error drops, but the test error starts to rise)."
      ],
      "metadata": {
        "id": "0Tv-4Suw9JlR"
      }
    },
    {
      "cell_type": "code",
      "source": [
        "def train_epoch(model, data_loader, loss_fn, optimizer, device, scheduler):\n",
        "    model.train()\n",
        "\n",
        "    total_loss = 0\n",
        "\n",
        "    for batch in tqdm(data_loader, desc=\"Treinando...\"):\n",
        "        input_ids = batch['input_ids'].to(device)\n",
        "        attention_mask = batch['attention_mask'].to(device)\n",
        "        labels = batch['labels'].to(device)\n",
        "\n",
        "        outputs = model(\n",
        "            input_ids=input_ids,\n",
        "            attention_mask=attention_mask\n",
        "        )\n",
        "\n",
        "        loss = loss_fn(outputs.squeeze(), labels)\n",
        "\n",
        "        total_loss += loss.item()\n",
        "\n",
        "        loss.backward()\n",
        "\n",
        "        optimizer.step()\n",
        "\n",
        "        scheduler.step()\n",
        "\n",
        "        optimizer.zero_grad()\n",
        "\n",
        "    return total_loss / len(data_loader)\n",
        "\n",
        "\n",
        "def evaluate(model, data_loader, loss_fn, device):\n",
        "\n",
        "    model.eval()\n",
        "\n",
        "    total_loss = 0\n",
        "\n",
        "    with torch.no_grad():\n",
        "        for batch in tqdm(data_loader, desc=\"Avaliando...\"):\n",
        "            input_ids = batch['input_ids'].to(device)\n",
        "            attention_mask = batch['attention_mask'].to(device)\n",
        "            labels = batch['labels'].to(device)\n",
        "\n",
        "            outputs = model(\n",
        "                input_ids=input_ids,\n",
        "                attention_mask=attention_mask\n",
        "            )\n",
        "\n",
        "            loss = loss_fn(outputs.squeeze(), labels)\n",
        "            total_loss += loss.item()\n",
        "\n",
        "    return total_loss / len(data_loader)\n",
        "\n",
        "print(\"funcs train_epoch and evaluate defined's\")"
      ],
      "metadata": {
        "colab": {
          "base_uri": "https://localhost:8080/"
        },
        "id": "lEU7ft-F91I4",
        "outputId": "cc1747a2-f782-4f04-e74a-c4e75935d54b"
      },
      "execution_count": null,
      "outputs": [
        {
          "output_type": "stream",
          "name": "stdout",
          "text": [
            "funcs train_epoch and evaluate defined's\n"
          ]
        }
      ]
    },
    {
      "cell_type": "markdown",
      "source": [
        "## 13. The Training Loop\n",
        "\n",
        "This is the final cell of the modeling process. Here, I orchestrate everything I have built.\n",
        "\n",
        "The following loop will loop through the data for the number of EPOCHS I have defined. At each epoch, it will do the following:\n",
        "\n",
        "1. Call the train_epoch function to train the model on all the training data and adjust its weights.\n",
        "\n",
        "2. Call the evaluate function to evaluate the performance of the trained model on the test set, which it has never seen before.\n",
        "\n",
        "3. Print the training and validation loss so we can track the learning.\n",
        "\n",
        "4. Check if the validation error for the current epoch is the lowest we have ever seen. If so, it saves the model at that point. This ensures that at the end, I will have saved the best possible \"brain\".\n",
        "\n",
        "At the end, I will plot a graph to visualize the learning curve of the model."
      ],
      "metadata": {
        "id": "6wQhKUa9_BA9"
      }
    },
    {
      "cell_type": "code",
      "source": [
        "history = defaultdict(list)\n",
        "best_loss = float('inf')\n",
        "\n",
        "print(\"start fine-tuning\")\n",
        "\n",
        "for epoch in range(EPOCHS):\n",
        "\n",
        "    epoch_start_time = time.time()\n",
        "\n",
        "    print(f\"\\nepoch {epoch + 1}/{EPOCHS} ---\")\n",
        "\n",
        "    train_loss = train_epoch(\n",
        "        model,\n",
        "        train_loader,\n",
        "        loss_function,\n",
        "        optimizer,\n",
        "        device,\n",
        "        scheduler\n",
        "    )\n",
        "\n",
        "    val_loss = evaluate(\n",
        "        model,\n",
        "        test_loader,\n",
        "        loss_function,\n",
        "        device\n",
        "    )\n",
        "\n",
        "    epoch_time = time.time() - epoch_start_time\n",
        "    print(f\"end of epoch {epoch + 1} | time: {epoch_time:.2f}s\")\n",
        "    print(f\"training loss: {train_loss:.4f} | validation loss: {val_loss:.4f}\")\n",
        "\n",
        "    history['train_loss'].append(train_loss)\n",
        "    history['val_loss'].append(val_loss)\n",
        "\n",
        "    if val_loss < best_loss:\n",
        "        print(\"saving model\")\n",
        "        caminho_para_salvar = os.path.join('data', 'raw', 'best_model_state.pth')\n",
        "        torch.save(model.state_dict(), caminho_para_salvar)\n",
        "        best_loss = val_loss\n",
        "\n",
        "print(\"\\nfine-tuning conclude\")\n",
        "print(f\"best validation loss achieved: {best_loss:.4f}\")\n",
        "\n",
        "plt.figure(figsize=(10, 6))\n",
        "plt.plot(history['train_loss'], label='Loss de Treino')\n",
        "plt.plot(history['val_loss'], label='Loss de Validação')\n",
        "plt.title('loss history by season')\n",
        "plt.ylabel('Loss (MAE Log-transformed)')\n",
        "plt.xlabel('epoch')\n",
        "plt.legend()\n",
        "plt.show()"
      ],
      "metadata": {
        "id": "LHrAABY8_gGX"
      },
      "execution_count": null,
      "outputs": []
    },
    {
      "cell_type": "code",
      "source": [
        "# This code uses the 'history' and 'best_loss' variables that were saved during fine-tuning.\n",
        "\n",
        "print(f\"best validation loss achieved: {best_loss:.4f}\")\n",
        "print(f\"-----------------------------------------------\")\n",
        "\n",
        "epochs_completed = range(1, len(history['train_loss']) + 1)\n",
        "\n",
        "plt.figure(figsize=(12, 8))\n",
        "plt.plot(epochs_completed, history['train_loss'], 'b-o', label='training loss')\n",
        "plt.plot(epochs_completed, history['val_loss'], 'r-o', label='validation loss')\n",
        "\n",
        "best_epoch = np.argmin(history['val_loss']) + 1\n",
        "plt.axvline(x=best_epoch, color='g', linestyle='--', label=f'best epoch ({best_epoch}) a {best_loss:.4f}')\n",
        "\n",
        "plt.title('soss History by epoch')\n",
        "plt.ylabel('loss (MAE transformed-log)')\n",
        "plt.xlabel('epoch')\n",
        "plt.xticks(list(epochs_completed))\n",
        "plt.legend()\n",
        "plt.grid(True)\n",
        "plt.show()"
      ],
      "metadata": {
        "colab": {
          "base_uri": "https://localhost:8080/",
          "height": 755
        },
        "id": "Dra_5cIsS-p5",
        "outputId": "18c26b9c-81a1-44e1-f275-f4ce867156ec"
      },
      "execution_count": null,
      "outputs": [
        {
          "output_type": "stream",
          "name": "stdout",
          "text": [
            "best validation loss achieved: 0.1692\n",
            "-----------------------------------------------\n"
          ]
        },
        {
          "output_type": "display_data",
          "data": {
            "text/plain": [
              "<Figure size 1200x800 with 1 Axes>"
            ],
            "image/png": "[encoded data removed]"
          },
          "metadata": {}
        }
      ]
    },
    {
      "cell_type": "markdown",
      "source": [
        "## 14. Model Evaluation and Inference on Samples\n",
        "\n",
        "With the model trained, we come to the final step: evaluating its performance qualitatively and quantitatively.\n",
        "\n",
        "In this section, I will do the following:\n",
        "1. **Load the Best Model:** I will load the weights from the best_model_state.pth file that I saved during training. This ensures that I am using the version of the model with the lowest validation error.\n",
        "2. **Make Predictions:** I will take some samples from the test set (data that the model has never seen) and run them through the model to get its price constraints.\n",
        "3. **Interpret the Results:** The output of the model is a log-transformed price. I need to reverse this transformation (np.expm1) to see the predicted price in Reais and compare it to the actual price. 4. **Calculate the Mean Absolute Error (MAE):** You calculate the average error of the variations across the entire test set to have a final, concrete performance metric: \"On average, the model misses the price of cars by R$X.\""
      ],
      "metadata": {
        "id": "J8ArRymxsh0c"
      }
    },
    {
      "cell_type": "code",
      "source": [
        "save_path = os.path.join('data', 'raw', 'best_model_state.pth')\n",
        "inference_model = RegressionTransformer(MODEL_NAME)\n",
        "inference_model.load_state_dict(torch.load(save_path))\n",
        "inference_model.to(device)\n",
        "inference_model.eval()\n",
        "print(\"model loaded\")\n",
        "\n",
        "print(\"\\ntesting model in random samples\")\n",
        "\n",
        "amostras_teste = X_test.sample(5, random_state=42)\n",
        "indices = amostras_teste.index\n",
        "\n",
        "for idx in indices:\n",
        "    texto = X_test.loc[idx]\n",
        "    preco_real_log = y_test_log.loc[idx]\n",
        "\n",
        "    encoded_text = tokenizer.encode_plus(\n",
        "        texto,\n",
        "        max_length=MAX_LEN,\n",
        "        add_special_tokens=True,\n",
        "        return_token_type_ids=False,\n",
        "        padding='max_length',\n",
        "        truncation=True,\n",
        "        return_attention_mask=True,\n",
        "        return_tensors='pt',\n",
        "    )\n",
        "\n",
        "    input_ids = encoded_text['input_ids'].to(device)\n",
        "    attention_mask = encoded_text['attention_mask'].to(device)\n",
        "\n",
        "    with torch.no_grad():\n",
        "        preco_predito_log = inference_model(input_ids, attention_mask)\n",
        "\n",
        "    preco_real = np.expm1(preco_real_log)\n",
        "    preco_predito = np.expm1(preco_predito_log.cpu().numpy()[0][0])\n",
        "\n",
        "    erro = abs(preco_real - preco_predito)\n",
        "\n",
        "    print(f\"\\nCarro: {texto[:80]}...\")\n",
        "    print(f\"  -> Preço Real: R$ {preco_real:,.2f}\")\n",
        "    print(f\"  -> Preço Previsto: R$ {preco_predito:,.2f}\")\n",
        "    print(f\"  -> Erro: R$ {erro:,.2f}\")\n",
        "\n",
        "print(\"\\ncalculing MAE\")\n",
        "y_pred_log_list = []\n",
        "with torch.no_grad():\n",
        "    for batch in tqdm(test_loader, desc=\"making batch predictions\"):\n",
        "        input_ids = batch['input_ids'].to(device)\n",
        "        attention_mask = batch['attention_mask'].to(device)\n",
        "\n",
        "        outputs = inference_model(input_ids, attention_mask)\n",
        "        y_pred_log_list.extend(outputs.cpu().numpy().flatten())\n",
        "\n",
        "y_test_real = np.expm1(y_test_log.values)\n",
        "y_pred_real = np.expm1(y_pred_log_list)\n",
        "\n",
        "mae = mean_absolute_error(y_test_real, y_pred_real)\n",
        "\n",
        "print(f\"\\nMean Absolute Error of the model on the test set is: R$ {mae:,.2f}\")"
      ],
      "metadata": {
        "id": "HnRzAyfQsiJR",
        "colab": {
          "base_uri": "https://localhost:8080/",
          "height": 607,
          "referenced_widgets": [
            "d1903ef5528744f0a58249fb64dcb646",
            "4fd8ded3d343418c9a5ddeb2594f84b2",
            "53b24da1066a49b88f1d4dfc9964a164",
            "3e61e5249e444138a47f297934365e1d",
            "f1377b84644d442caff4edd6b2a3ae72",
            "b17e09a0cde34a01a79982ed92e6000e",
            "e7b6029314a649359b546691f4731937",
            "adc99d34415d4f059d248a38d22b5c3a",
            "bee305ef805e4a0681c6e3218f41118a",
            "9add9c2374a142da99d42ff72d0f05b1",
            "66a82521a84442849acb9b51c26426a7"
          ]
        },
        "outputId": "fd617ca1-dd3a-44a7-d7ad-53ed74675013"
      },
      "execution_count": null,
      "outputs": [
        {
          "output_type": "stream",
          "name": "stdout",
          "text": [
            "loading model: neuralmind/bert-base-portuguese-cased...\n",
            "model defined\n",
            "model loaded\n",
            "\n",
            "testing model in random samples\n",
            "\n",
            "Carro: make [Nissan] | model [Sentra] | trim [2] | body [Sedan] | transmission [automat...\n",
            "  -> Preço Real: R$ 4,200.00\n",
            "  -> Preço Previsto: R$ 3,474.03\n",
            "  -> Erro: R$ 725.97\n",
            "\n",
            "Carro: make [Chevrolet] | model [Tahoe] | trim [LS] | body [suv] | transmission [automa...\n",
            "  -> Preço Real: R$ 4,300.00\n",
            "  -> Preço Previsto: R$ 5,485.43\n",
            "  -> Erro: R$ 1,185.43\n",
            "\n",
            "Carro: make [Honda] | model [CR-V] | trim [EX-L] | body [SUV] | transmission [automatic...\n",
            "  -> Preço Real: R$ 18,600.00\n",
            "  -> Preço Previsto: R$ 17,660.87\n",
            "  -> Erro: R$ 939.13\n",
            "\n",
            "Carro: make [Chevrolet] | model [Impala] | trim [LT] | body [Sedan] | transmission [aut...\n",
            "  -> Preço Real: R$ 10,100.00\n",
            "  -> Preço Previsto: R$ 9,728.56\n",
            "  -> Erro: R$ 371.44\n",
            "\n",
            "Carro: make [Toyota] | model [RAV4] | trim [Base] | body [SUV] | transmission [automati...\n",
            "  -> Preço Real: R$ 15,500.00\n",
            "  -> Preço Previsto: R$ 14,021.65\n",
            "  -> Erro: R$ 1,478.35\n",
            "\n",
            "calculing MAE\n"
          ]
        },
        {
          "output_type": "display_data",
          "data": {
            "text/plain": [
              "making batch predictions:   0%|          | 0/6975 [00:00<?, ?it/s]"
            ],
            "application/vnd.jupyter.widget-view+json": {
              "version_major": 2,
              "version_minor": 0,
              "model_id": "d1903ef5528744f0a58249fb64dcb646"
            }
          },
          "metadata": {}
        },
        {
          "output_type": "stream",
          "name": "stdout",
          "text": [
            "\n",
            "Mean Absolute Error of the model on the test set is: R$ 1,721.57\n"
          ]
        }
      ]
    },
    {
      "cell_type": "markdown",
      "source": [
        "## 15. Saving the Final Artifacts for Production\n",
        "\n",
        "In addition to the model weights, I need to save the preprocessing pipeline (ColumnTransformer) and the list of features that the model expects. This ensures that the future API can replicate exactly the same steps I took in training. I will use the joblib library to save the scikit-learn object."
      ],
      "metadata": {
        "id": "l5RuZh__wAD7"
      }
    },
    {
      "cell_type": "code",
      "source": [
        "categorical_features = ['make', 'model', 'trim', 'body', 'transmission', 'color', 'interior']\n",
        "numeric_features = ['age', 'odometer', 'sale_month', 'sale_dayofweek', 'sale_dayofyear', 'make_popularity', 'model_popularity', 'km_per_year']\n",
        "text_feature = 'text'\n",
        "\n",
        "preprocessor = ColumnTransformer(\n",
        "    transformers=[\n",
        "        ('num', StandardScaler(), numeric_features),\n",
        "        ('cat', OneHotEncoder(handle_unknown='ignore'), categorical_features)\n",
        "    ],\n",
        "    remainder='passthrough'\n",
        ")\n",
        "\n",
        "features_para_texto = numeric_features + categorical_features\n",
        "\n",
        "def criar_representacao_textual(row):\n",
        "    partes = [f\"{coluna}[{str(row[coluna])}]\" for coluna in features_para_texto]\n",
        "    return \" | \".join(partes)\n",
        "\n",
        "X_text = df_features.apply(criar_representacao_textual, axis=1)\n",
        "y_log = np.log1p(df_features['sellingprice'])\n",
        "\n",
        "save_path_model = os.path.join('data', 'raw', 'best_model_state.pth')\n",
        "torch.save(model.state_dict(), save_path_model)\n",
        "\n",
        "save_path_preprocessor = os.path.join('data', 'raw', 'preprocessor.pkl')\n",
        "joblib.dump(preprocessor, save_path_preprocessor)\n",
        "\n",
        "save_path_features = os.path.join('data', 'raw', 'model_features.json')\n",
        "features_dict = {'numeric': numeric_features, 'categorical': categorical_features}\n",
        "with open(save_path_features, 'w') as f:\n",
        "    json.dump(features_dict, f)\n",
        "\n",
        "print(f\"model saved in: {save_path_model}\")\n",
        "print(f\"pre-processor saved in: {save_path_preprocessor}\")\n",
        "print(f\"model features saved in: {save_path_features}\")"
      ],
      "metadata": {
        "id": "NLmBUGjnwXbt",
        "colab": {
          "base_uri": "https://localhost:8080/"
        },
        "outputId": "83a1e83b-4985-4797-f76b-fba67b7758d2"
      },
      "execution_count": null,
      "outputs": [
        {
          "output_type": "stream",
          "name": "stdout",
          "text": [
            "model saved in: data\\raw\\best_model_state.pth\n",
            "pre-processor saved in: data\\raw\\preprocessor.pkl\n",
            "model features saved in: data\\raw\\model_features.json\n"
          ]
        }
      ]
    }
  ]
}